{
 "cells": [
  {
   "cell_type": "markdown",
   "metadata": {},
   "source": [
    "# Patterns"
   ]
  },
  {
   "cell_type": "code",
   "execution_count": 5,
   "metadata": {
    "vscode": {
     "languageId": "cpp"
    }
   },
   "outputs": [],
   "source": [
    "#include <iostream>\n",
    "using namespace std;"
   ]
  },
  {
   "cell_type": "markdown",
   "metadata": {},
   "source": [
    "**Square Pattern**"
   ]
  },
  {
   "cell_type": "code",
   "execution_count": null,
   "metadata": {
    "vscode": {
     "languageId": "cpp"
    }
   },
   "outputs": [
    {
     "name": "stdout",
     "output_type": "stream",
     "text": [
      "* * * * * \n",
      "* * * * * \n",
      "* * * * * \n",
      "* * * * * \n",
      "* * * * * \n"
     ]
    }
   ],
   "source": [
    "int n = 5;\n",
    "\n",
    "for (int i = 0; i < n; i++) {\n",
    "    for (int j = 0; j < n; j++) {\n",
    "        cout << \"* \";\n",
    "    }\n",
    "    cout << endl;\n",
    "}"
   ]
  },
  {
   "cell_type": "markdown",
   "metadata": {},
   "source": [
    "**Right Triangle Pattern**"
   ]
  },
  {
   "cell_type": "code",
   "execution_count": 7,
   "metadata": {
    "vscode": {
     "languageId": "cpp"
    }
   },
   "outputs": [
    {
     "name": "stdout",
     "output_type": "stream",
     "text": [
      "* \n",
      "* * \n",
      "* * * \n",
      "* * * * \n",
      "* * * * * \n"
     ]
    }
   ],
   "source": [
    "int n = 5;\n",
    "\n",
    "for (int i = 1; i <= n; i++) {\n",
    "    for (int j = 1; j <= i; j++) {\n",
    "        cout << \"* \";\n",
    "    }\n",
    "    cout << endl;\n",
    "}"
   ]
  },
  {
   "cell_type": "markdown",
   "metadata": {},
   "source": [
    "**Left Triangle Pattern**"
   ]
  },
  {
   "cell_type": "code",
   "execution_count": 8,
   "metadata": {
    "vscode": {
     "languageId": "cpp"
    }
   },
   "outputs": [
    {
     "name": "stdout",
     "output_type": "stream",
     "text": [
      "        * \n",
      "      * * \n",
      "    * * * \n",
      "  * * * * \n",
      "* * * * * \n"
     ]
    }
   ],
   "source": [
    "int n = 5;\n",
    "\n",
    "for (int i = 1; i <= n; i++) {\n",
    "    for (int j = i; j < n; j++) {\n",
    "        cout << \"  \";\n",
    "    }\n",
    "    for (int j = 1; j <= i; j++) {\n",
    "        cout << \"* \";\n",
    "    }\n",
    "    cout << endl;\n",
    "}"
   ]
  },
  {
   "cell_type": "markdown",
   "metadata": {},
   "source": [
    "**Pyramid Pattern**"
   ]
  },
  {
   "cell_type": "code",
   "execution_count": 9,
   "metadata": {
    "vscode": {
     "languageId": "cpp"
    }
   },
   "outputs": [
    {
     "name": "stdout",
     "output_type": "stream",
     "text": [
      "        * \n",
      "      * * * \n",
      "    * * * * * \n",
      "  * * * * * * * \n",
      "* * * * * * * * * \n"
     ]
    }
   ],
   "source": [
    "int n = 5;\n",
    "\n",
    "for (int i = 1; i <= n; i++) {\n",
    "    for (int j = i; j < n; j++) {\n",
    "        cout << \"  \";\n",
    "    }\n",
    "    for (int j = 1; j <= (2 * i - 1); j++) {\n",
    "        cout << \"* \";\n",
    "    }\n",
    "    cout << endl;\n",
    "}"
   ]
  },
  {
   "cell_type": "markdown",
   "metadata": {},
   "source": [
    "**Inverted Pyramid Pattern**"
   ]
  },
  {
   "cell_type": "code",
   "execution_count": null,
   "metadata": {
    "vscode": {
     "languageId": "cpp"
    }
   },
   "outputs": [],
   "source": [
    "int n = 5;\n",
    "\n",
    "for (int i = n; i >= 1; i--) {\n",
    "    for (int j = i; j < n; j++) {\n",
    "        cout << \"  \";\n",
    "    }\n",
    "    for (int j = 1; j <= (2 * i - 1); j++) {\n",
    "        cout << \"* \";\n",
    "    }\n",
    "    cout << endl;\n",
    "}"
   ]
  },
  {
   "cell_type": "markdown",
   "metadata": {},
   "source": [
    "**Diamond Pattern**"
   ]
  },
  {
   "cell_type": "code",
   "execution_count": 10,
   "metadata": {
    "vscode": {
     "languageId": "cpp"
    }
   },
   "outputs": [
    {
     "name": "stdout",
     "output_type": "stream",
     "text": [
      "        * \n",
      "      * * * \n",
      "    * * * * * \n",
      "  * * * * * * * \n",
      "* * * * * * * * * \n",
      "  * * * * * * * \n",
      "    * * * * * \n",
      "      * * * \n",
      "        * \n"
     ]
    }
   ],
   "source": [
    "int n = 5;\n",
    "\n",
    "for (int i = 1; i <= n; i++) {\n",
    "    for (int j = i; j < n; j++) {\n",
    "        cout << \"  \";\n",
    "    }\n",
    "    for (int j = 1; j <= (2 * i - 1); j++) {\n",
    "        cout << \"* \";\n",
    "    }\n",
    "    cout << endl;\n",
    "}\n",
    "\n",
    "for (int i = n - 1; i >= 1; i--) {\n",
    "    for (int j = i; j < n; j++) {\n",
    "        cout << \"  \";\n",
    "    }\n",
    "    for (int j = 1; j <= (2 * i - 1); j++) {\n",
    "        cout << \"* \";\n",
    "    }\n",
    "    cout << endl;\n",
    "}"
   ]
  },
  {
   "cell_type": "markdown",
   "metadata": {},
   "source": [
    "**Hollow Square Pattern***"
   ]
  },
  {
   "cell_type": "code",
   "execution_count": 11,
   "metadata": {
    "vscode": {
     "languageId": "cpp"
    }
   },
   "outputs": [
    {
     "name": "stdout",
     "output_type": "stream",
     "text": [
      "* * * * * \n",
      "*       * \n",
      "*       * \n",
      "*       * \n",
      "* * * * * \n"
     ]
    }
   ],
   "source": [
    "int n = 5;\n",
    "\n",
    "for (int i = 0; i < n; i++) {\n",
    "    for (int j = 0; j < n; j++) {\n",
    "        if (i == 0 || i == n - 1 || j == 0 || j == n - 1) {\n",
    "            cout << \"* \";\n",
    "        } else {\n",
    "            cout << \"  \";\n",
    "        }\n",
    "    }\n",
    "    cout << endl;\n",
    "}"
   ]
  },
  {
   "cell_type": "markdown",
   "metadata": {},
   "source": [
    "**Hollow Right Triangle Pattern**"
   ]
  },
  {
   "cell_type": "code",
   "execution_count": 12,
   "metadata": {
    "vscode": {
     "languageId": "cpp"
    }
   },
   "outputs": [
    {
     "name": "stdout",
     "output_type": "stream",
     "text": [
      "* \n",
      "* * \n",
      "*   * \n",
      "*     * \n",
      "* * * * * \n"
     ]
    }
   ],
   "source": [
    "int n = 5;\n",
    "\n",
    "for (int i = 1; i <= n; i++) {\n",
    "    for (int j = 1; j <= i; j++) {\n",
    "        if (i == n || j == 1 || j == i) {\n",
    "            cout << \"* \";\n",
    "        } else {\n",
    "            cout << \"  \";\n",
    "        }\n",
    "    }\n",
    "    cout << endl;\n",
    "}"
   ]
  },
  {
   "cell_type": "markdown",
   "metadata": {},
   "source": [
    "**Hollow Left Triangle Pattern**"
   ]
  },
  {
   "cell_type": "code",
   "execution_count": 13,
   "metadata": {
    "vscode": {
     "languageId": "cpp"
    }
   },
   "outputs": [
    {
     "name": "stdout",
     "output_type": "stream",
     "text": [
      "        * \n",
      "      * * \n",
      "    *   * \n",
      "  *     * \n",
      "* * * * * \n"
     ]
    }
   ],
   "source": [
    "int n = 5;\n",
    "\n",
    "for (int i = 1; i <= n; i++) {\n",
    "    for (int j = i; j < n; j++) {\n",
    "        cout << \"  \";\n",
    "    }\n",
    "    for (int j = 1; j <= i; j++) {\n",
    "        if (i == n || j == 1 || j == i) {\n",
    "            cout << \"* \";\n",
    "        } else {\n",
    "            cout << \"  \";\n",
    "        }\n",
    "    }\n",
    "    cout << endl;\n",
    "}"
   ]
  },
  {
   "cell_type": "markdown",
   "metadata": {},
   "source": [
    "**Hollow Pyramid Pattern**"
   ]
  },
  {
   "cell_type": "code",
   "execution_count": 14,
   "metadata": {
    "vscode": {
     "languageId": "cpp"
    }
   },
   "outputs": [
    {
     "name": "stdout",
     "output_type": "stream",
     "text": [
      "        * \n",
      "      *   * \n",
      "    *       * \n",
      "  *           * \n",
      "* * * * * * * * * \n"
     ]
    }
   ],
   "source": [
    "int n = 5;\n",
    "\n",
    "for (int i = 1; i <= n; i++) {\n",
    "    for (int j = i; j < n; j++) {\n",
    "        cout << \"  \";\n",
    "    }\n",
    "    for (int j = 1; j <= (2 * i - 1); j++) {\n",
    "        if (i == n || j == 1 || j == (2 * i - 1)) {\n",
    "            cout << \"* \";\n",
    "        } else {\n",
    "            cout << \"  \";\n",
    "        }\n",
    "    }\n",
    "    cout << endl;\n",
    "}"
   ]
  },
  {
   "cell_type": "markdown",
   "metadata": {},
   "source": [
    "**Hollow Inverted Pyramid Pattern**"
   ]
  },
  {
   "cell_type": "code",
   "execution_count": 15,
   "metadata": {
    "vscode": {
     "languageId": "cpp"
    }
   },
   "outputs": [
    {
     "name": "stdout",
     "output_type": "stream",
     "text": [
      "* * * * * * * * * \n",
      "  *           * \n",
      "    *       * \n",
      "      *   * \n",
      "        * \n"
     ]
    }
   ],
   "source": [
    "int n = 5;\n",
    "\n",
    "for (int i = n; i >= 1; i--) {\n",
    "    for (int j = i; j < n; j++) {\n",
    "        cout << \"  \";\n",
    "    }\n",
    "    for (int j = 1; j <= (2 * i - 1); j++) {\n",
    "        if (i == n || j == 1 || j == (2 * i - 1)) {\n",
    "            cout << \"* \";\n",
    "        } else {\n",
    "            cout << \"  \";\n",
    "        }\n",
    "    }\n",
    "    cout << endl;\n",
    "}"
   ]
  },
  {
   "cell_type": "markdown",
   "metadata": {},
   "source": [
    "**Hollow Diamond Pattern**"
   ]
  },
  {
   "cell_type": "code",
   "execution_count": 16,
   "metadata": {
    "vscode": {
     "languageId": "cpp"
    }
   },
   "outputs": [
    {
     "name": "stdout",
     "output_type": "stream",
     "text": [
      "        * \n",
      "      *   * \n",
      "    *       * \n",
      "  *           * \n",
      "*               * \n",
      "  *           * \n",
      "    *       * \n",
      "      *   * \n",
      "        * \n"
     ]
    }
   ],
   "source": [
    "int n = 5;\n",
    "\n",
    "for (int i = 1; i <= n; i++) {\n",
    "    for (int j = i; j < n; j++) {\n",
    "        cout << \"  \";\n",
    "    }\n",
    "    for (int j = 1; j <= (2 * i - 1); j++) {\n",
    "        if (j == 1 || j == (2 * i - 1)) {\n",
    "            cout << \"* \";\n",
    "        } else {\n",
    "            cout << \"  \";\n",
    "        }\n",
    "    }\n",
    "    cout << endl;\n",
    "}\n",
    "\n",
    "for (int i = n - 1; i >= 1; i--) {\n",
    "    for (int j = i; j < n; j++) {\n",
    "        cout << \"  \";\n",
    "    }\n",
    "    for (int j = 1; j <= (2 * i - 1); j++) {\n",
    "        if (j == 1 || j == (2 * i - 1)) {\n",
    "            cout << \"* \";\n",
    "        } else {\n",
    "            cout << \"  \";\n",
    "        }\n",
    "    }\n",
    "    cout << endl;\n",
    "}"
   ]
  },
  {
   "cell_type": "markdown",
   "metadata": {},
   "source": [
    "**Number Square Pattern**"
   ]
  },
  {
   "cell_type": "code",
   "execution_count": 17,
   "metadata": {
    "vscode": {
     "languageId": "cpp"
    }
   },
   "outputs": [
    {
     "name": "stdout",
     "output_type": "stream",
     "text": [
      "1 2 3 4 5 \n",
      "1 2 3 4 5 \n",
      "1 2 3 4 5 \n",
      "1 2 3 4 5 \n",
      "1 2 3 4 5 \n"
     ]
    }
   ],
   "source": [
    "int n = 5;\n",
    "\n",
    "for (int i = 1; i <= n; i++) {\n",
    "    for (int j = 1; j <= n; j++) {\n",
    "        cout << j << \" \";\n",
    "    }\n",
    "    cout << endl;\n",
    "}"
   ]
  },
  {
   "cell_type": "markdown",
   "metadata": {},
   "source": [
    "**Number Right Triangle Pattern**"
   ]
  },
  {
   "cell_type": "code",
   "execution_count": 18,
   "metadata": {
    "vscode": {
     "languageId": "cpp"
    }
   },
   "outputs": [
    {
     "name": "stdout",
     "output_type": "stream",
     "text": [
      "1 \n",
      "1 2 \n",
      "1 2 3 \n",
      "1 2 3 4 \n",
      "1 2 3 4 5 \n"
     ]
    }
   ],
   "source": [
    "int n = 5;\n",
    "\n",
    "for (int i = 1; i <= n; i++) {\n",
    "    for (int j = 1; j <= i; j++) {\n",
    "        cout << j << \" \";\n",
    "    }\n",
    "    cout << endl;\n",
    "}"
   ]
  },
  {
   "cell_type": "markdown",
   "metadata": {},
   "source": [
    "**Number Left Triangle Pattern**"
   ]
  },
  {
   "cell_type": "code",
   "execution_count": 19,
   "metadata": {
    "vscode": {
     "languageId": "cpp"
    }
   },
   "outputs": [
    {
     "name": "stdout",
     "output_type": "stream",
     "text": [
      "        1 \n",
      "      1 2 \n",
      "    1 2 3 \n",
      "  1 2 3 4 \n",
      "1 2 3 4 5 \n"
     ]
    }
   ],
   "source": [
    "int n = 5;\n",
    "\n",
    "for (int i = 1; i <= n; i++) {\n",
    "    for (int j = i; j < n; j++) {\n",
    "        cout << \"  \";\n",
    "    }\n",
    "    for (int j = 1; j <= i; j++) {\n",
    "        cout << j << \" \";\n",
    "    }\n",
    "    cout << endl;\n",
    "}"
   ]
  },
  {
   "cell_type": "markdown",
   "metadata": {},
   "source": [
    "**Number Pyramid Pattern**"
   ]
  },
  {
   "cell_type": "code",
   "execution_count": 20,
   "metadata": {
    "vscode": {
     "languageId": "cpp"
    }
   },
   "outputs": [
    {
     "name": "stdout",
     "output_type": "stream",
     "text": [
      "        1 \n",
      "      1 2 1 \n",
      "    1 2 3 2 1 \n",
      "  1 2 3 4 3 2 1 \n",
      "1 2 3 4 5 4 3 2 1 \n"
     ]
    }
   ],
   "source": [
    "int n = 5;\n",
    "\n",
    "for (int i = 1; i <= n; i++) {\n",
    "    for (int j = i; j < n; j++) {\n",
    "        cout << \"  \";\n",
    "    }\n",
    "    for (int j = 1; j <= i; j++) {\n",
    "        cout << j << \" \";\n",
    "    }\n",
    "    for (int j = i - 1; j >= 1; j--) {\n",
    "        cout << j << \" \";\n",
    "    }\n",
    "    cout << endl;\n",
    "}"
   ]
  },
  {
   "cell_type": "markdown",
   "metadata": {},
   "source": [
    "**Number Inverted Pyramid Pattern**"
   ]
  },
  {
   "cell_type": "code",
   "execution_count": 23,
   "metadata": {
    "vscode": {
     "languageId": "cpp"
    }
   },
   "outputs": [
    {
     "name": "stdout",
     "output_type": "stream",
     "text": [
      "1 2 3 4 5 4 3 2 1 \n",
      "  1 2 3 4 3 2 1 \n",
      "    1 2 3 2 1 \n",
      "      1 2 1 \n",
      "        1 \n"
     ]
    }
   ],
   "source": [
    "int n = 5;\n",
    "\n",
    "for (int i = n; i >= 1; i--) {\n",
    "    for (int j = i; j < n; j++) {\n",
    "        cout << \"  \";\n",
    "    }\n",
    "    for (int j = 1; j <= i; j++) {\n",
    "        cout << j << \" \";\n",
    "    }\n",
    "    for (int j = i - 1; j >= 1; j--) {\n",
    "        cout << j << \" \";\n",
    "    }\n",
    "    cout << endl;\n",
    "}"
   ]
  },
  {
   "cell_type": "markdown",
   "metadata": {},
   "source": [
    "**Number Diamond Pattern**"
   ]
  },
  {
   "cell_type": "code",
   "execution_count": 21,
   "metadata": {
    "vscode": {
     "languageId": "cpp"
    }
   },
   "outputs": [
    {
     "name": "stdout",
     "output_type": "stream",
     "text": [
      "        1 \n",
      "      1 2 1 \n",
      "    1 2 3 2 1 \n",
      "  1 2 3 4 3 2 1 \n",
      "1 2 3 4 5 4 3 2 1 \n",
      "  1 2 3 4 3 2 1 \n",
      "    1 2 3 2 1 \n",
      "      1 2 1 \n",
      "        1 \n"
     ]
    }
   ],
   "source": [
    "int n = 5;\n",
    "\n",
    "for (int i = 1; i <= n; i++) {\n",
    "    for (int j = i; j < n; j++) {\n",
    "        cout << \"  \";\n",
    "    }\n",
    "    for (int j = 1; j <= i; j++) {\n",
    "        cout << j << \" \";\n",
    "    }\n",
    "    for (int j = i - 1; j >= 1; j--) {\n",
    "        cout << j << \" \";\n",
    "    }\n",
    "    cout << endl;\n",
    "}\n",
    "\n",
    "for (int i = n - 1; i >= 1; i--) {\n",
    "    for (int j = i; j < n; j++) {\n",
    "        cout << \"  \";\n",
    "    }\n",
    "    for (int j = 1; j <= i; j++) {\n",
    "        cout << j << \" \";\n",
    "    }\n",
    "    for (int j = i - 1; j >= 1; j--) {\n",
    "        cout << j << \" \";\n",
    "    }\n",
    "    cout << endl;\n",
    "}"
   ]
  },
  {
   "cell_type": "markdown",
   "metadata": {},
   "source": [
    "**Alphabet Square Pattern**"
   ]
  },
  {
   "cell_type": "code",
   "execution_count": 29,
   "metadata": {
    "vscode": {
     "languageId": "cpp"
    }
   },
   "outputs": [
    {
     "name": "stdout",
     "output_type": "stream",
     "text": [
      "A B C D E \n",
      "F G H I J \n",
      "K L M N O \n",
      "P Q R S T \n",
      "U V W X Y \n"
     ]
    }
   ],
   "source": [
    "int n = 5;\n",
    "char ch = 'A';\n",
    "\n",
    "for (int i = 0; i < n; i++) {\n",
    "    for (int j = 0; j < n; j++) {\n",
    "        cout << ch << \" \";\n",
    "        ch++;\n",
    "    }\n",
    "    cout << endl;\n",
    "}"
   ]
  },
  {
   "cell_type": "markdown",
   "metadata": {},
   "source": [
    "**Alphabet Right Triangle Pattern**"
   ]
  },
  {
   "cell_type": "code",
   "execution_count": 26,
   "metadata": {
    "vscode": {
     "languageId": "cpp"
    }
   },
   "outputs": [
    {
     "name": "stdout",
     "output_type": "stream",
     "text": [
      "A \n",
      "B C \n",
      "D E F \n",
      "G H I J \n",
      "K L M N O \n"
     ]
    }
   ],
   "source": [
    "int n = 5;\n",
    "char ch = 'A';\n",
    "\n",
    "for (int i = 1; i <= n; i++) {\n",
    "    for (int j = 1; j <= i; j++) {\n",
    "        cout << ch << \" \";\n",
    "        ch++;\n",
    "    }\n",
    "    cout << endl;\n",
    "}"
   ]
  },
  {
   "cell_type": "markdown",
   "metadata": {},
   "source": [
    "**Alphabet Left Triangle Pattern**"
   ]
  },
  {
   "cell_type": "code",
   "execution_count": 30,
   "metadata": {
    "vscode": {
     "languageId": "cpp"
    }
   },
   "outputs": [
    {
     "name": "stdout",
     "output_type": "stream",
     "text": [
      "        A \n",
      "      B C \n",
      "    D E F \n",
      "  G H I J \n",
      "K L M N O \n"
     ]
    }
   ],
   "source": [
    "int n = 5;\n",
    "char ch = 'A';\n",
    "\n",
    "for (int i = 1; i <= n; i++) {\n",
    "    for (int j = i; j < n; j++) {\n",
    "        cout << \"  \";\n",
    "    }\n",
    "    for (int j = 1; j <= i; j++) {\n",
    "        cout << ch << \" \";\n",
    "        ch++;\n",
    "    }\n",
    "    cout << endl;\n",
    "}"
   ]
  },
  {
   "cell_type": "markdown",
   "metadata": {},
   "source": [
    "**Alphabet Pyramid Pattern**"
   ]
  },
  {
   "cell_type": "code",
   "execution_count": 32,
   "metadata": {
    "vscode": {
     "languageId": "cpp"
    }
   },
   "outputs": [
    {
     "name": "stdout",
     "output_type": "stream",
     "text": [
      "        A \n",
      "      B B B \n",
      "    C C C C C \n",
      "  D D D D D D D \n",
      "E E E E E E E E E \n"
     ]
    }
   ],
   "source": [
    "int n = 5;\n",
    "char ch = 'A';\n",
    "\n",
    "for (int i = 1; i <= n; i++) {\n",
    "    for (int j = i; j < n; j++) {\n",
    "        cout << \"  \";\n",
    "    }\n",
    "    for (int j = 1; j <= i; j++) {\n",
    "        cout << ch << \" \";\n",
    "    }\n",
    "    for (int j = i - 1; j >= 1; j--) {\n",
    "        cout << ch << \" \";\n",
    "    }\n",
    "    cout << endl;\n",
    "    ch++;\n",
    "}"
   ]
  },
  {
   "cell_type": "markdown",
   "metadata": {},
   "source": [
    "**Alphabet Inverted Pyramid Pattern**"
   ]
  },
  {
   "cell_type": "code",
   "execution_count": 33,
   "metadata": {
    "vscode": {
     "languageId": "cpp"
    }
   },
   "outputs": [
    {
     "name": "stdout",
     "output_type": "stream",
     "text": [
      "E E E E E E E E E \n",
      "  D D D D D D D \n",
      "    C C C C C \n",
      "      B B B \n",
      "        A \n"
     ]
    }
   ],
   "source": [
    "int n = 5;\n",
    "char ch = 'A' + n - 1;\n",
    "\n",
    "for (int i = n; i >= 1; i--) {\n",
    "    for (int j = i; j < n; j++) {\n",
    "        cout << \"  \";\n",
    "    }\n",
    "    for (int j = 1; j <= i; j++) {\n",
    "        cout << ch << \" \";\n",
    "    }\n",
    "    for (int j = i - 1; j >= 1; j--) {\n",
    "        cout << ch << \" \";\n",
    "    }\n",
    "    cout << endl;\n",
    "    ch--;\n",
    "}"
   ]
  },
  {
   "cell_type": "markdown",
   "metadata": {},
   "source": [
    "**Alphabet Diamond Pattern**"
   ]
  },
  {
   "cell_type": "code",
   "execution_count": 34,
   "metadata": {
    "vscode": {
     "languageId": "cpp"
    }
   },
   "outputs": [
    {
     "name": "stdout",
     "output_type": "stream",
     "text": [
      "        A \n",
      "      A B A \n",
      "    A B C B A \n",
      "  A B C D C B A \n",
      "A B C D E D C B A \n",
      "  A B C D C B A \n",
      "    A B C B A \n",
      "      A B A \n",
      "        A \n"
     ]
    }
   ],
   "source": [
    "int n = 5;\n",
    "char ch;\n",
    "\n",
    "for (int i = 1; i <= n; i++) {\n",
    "    ch = 'A';\n",
    "    for (int j = i; j < n; j++) {\n",
    "        cout << \"  \";\n",
    "    }\n",
    "    for (int j = 1; j <= i; j++) {\n",
    "        cout << ch << \" \";\n",
    "        ch++;\n",
    "    }\n",
    "    ch--;\n",
    "    for (int j = 1; j < i; j++) {\n",
    "        ch--;\n",
    "        cout << ch << \" \";\n",
    "    }\n",
    "    cout << endl;\n",
    "}\n",
    "\n",
    "for (int i = n - 1; i >= 1; i--) {\n",
    "    ch = 'A';\n",
    "    for (int j = i; j < n; j++) {\n",
    "        cout << \"  \";\n",
    "    }\n",
    "    for (int j = 1; j <= i; j++) {\n",
    "        cout << ch << \" \";\n",
    "        ch++;\n",
    "    }\n",
    "    ch--;\n",
    "    for (int j = 1; j < i; j++) {\n",
    "        ch--;\n",
    "        cout << ch << \" \";\n",
    "    }\n",
    "    cout << endl;\n",
    "}"
   ]
  },
  {
   "cell_type": "markdown",
   "metadata": {},
   "source": [
    "**Cross Pattern**"
   ]
  },
  {
   "cell_type": "code",
   "execution_count": 35,
   "metadata": {
    "vscode": {
     "languageId": "cpp"
    }
   },
   "outputs": [
    {
     "name": "stdout",
     "output_type": "stream",
     "text": [
      "*       * \n",
      "  *   *   \n",
      "    *     \n",
      "  *   *   \n",
      "*       * \n"
     ]
    }
   ],
   "source": [
    "int n = 5;\n",
    "\n",
    "for (int i = 0; i < n; i++) {\n",
    "    for (int j = 0; j < n; j++) {\n",
    "        if (i == j || i + j == n - 1) {\n",
    "            cout << \"* \";\n",
    "        } else {\n",
    "            cout << \"  \";\n",
    "        }\n",
    "    }\n",
    "    cout << endl;\n",
    "}"
   ]
  },
  {
   "cell_type": "markdown",
   "metadata": {},
   "source": [
    "**Plus Pattern**"
   ]
  },
  {
   "cell_type": "code",
   "execution_count": 36,
   "metadata": {
    "vscode": {
     "languageId": "cpp"
    }
   },
   "outputs": [
    {
     "name": "stdout",
     "output_type": "stream",
     "text": [
      "    *     \n",
      "    *     \n",
      "* * * * * \n",
      "    *     \n",
      "    *     \n"
     ]
    }
   ],
   "source": [
    "int n = 5;\n",
    "int mid = n / 2;\n",
    "\n",
    "for (int i = 0; i < n; i++) {\n",
    "    for (int j = 0; j < n; j++) {\n",
    "        if (i == mid || j == mid) {\n",
    "            cout << \"* \";\n",
    "        } else {\n",
    "            cout << \"  \";\n",
    "        }\n",
    "    }\n",
    "    cout << endl;\n",
    "}"
   ]
  }
 ],
 "metadata": {
  "kernelspec": {
   "display_name": "C++17",
   "language": "C++17",
   "name": "xcpp17"
  },
  "language_info": {
   "codemirror_mode": "text/x-c++src",
   "file_extension": ".cpp",
   "mimetype": "text/x-c++src",
   "name": "C++17",
   "version": "17"
  }
 },
 "nbformat": 4,
 "nbformat_minor": 4
}
