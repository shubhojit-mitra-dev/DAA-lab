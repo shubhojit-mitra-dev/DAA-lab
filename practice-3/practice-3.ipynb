{
 "cells": [
  {
   "cell_type": "markdown",
   "metadata": {},
   "source": [
    "# Practice-3"
   ]
  },
  {
   "cell_type": "code",
   "execution_count": 14,
   "metadata": {
    "vscode": {
     "languageId": "cpp"
    }
   },
   "outputs": [],
   "source": [
    "#include <iostream>\n",
    "#include <vector>\n",
    "#include <algorithm>\n",
    "#include <limits.h>\n",
    "#include <queue>\n",
    "#include <climits>\n",
    "#include <chrono>\n",
    "using namespace std;\n",
    "using namespace std::chrono;"
   ]
  },
  {
   "cell_type": "markdown",
   "metadata": {},
   "source": [
    "Implement the activity selection problem to get a clear understanding of greedy approach."
   ]
  },
  {
   "cell_type": "code",
   "execution_count": 7,
   "metadata": {
    "vscode": {
     "languageId": "cpp"
    }
   },
   "outputs": [],
   "source": [
    "struct Activity {\n",
    "    int start;\n",
    "    int finish;\n",
    "};"
   ]
  },
  {
   "cell_type": "code",
   "execution_count": 8,
   "metadata": {
    "vscode": {
     "languageId": "cpp"
    }
   },
   "outputs": [],
   "source": [
    "bool activityCompare(Activity s1, Activity s2) {\n",
    "    return (s1.finish < s2.finish);\n",
    "}"
   ]
  },
  {
   "cell_type": "code",
   "execution_count": 9,
   "metadata": {
    "vscode": {
     "languageId": "cpp"
    }
   },
   "outputs": [],
   "source": [
    "void printMaxActivities(vector<Activity> activities) {\n",
    "    sort(activities.begin(), activities.end(), activityCompare);\n",
    "\n",
    "    cout << \"Selected activities are: \" << endl;\n",
    "\n",
    "    int i = 0;\n",
    "    cout << \"(\" << activities[i].start << \", \" << activities[i].finish << \")\" << endl;\n",
    "\n",
    "    for (int j = 1; j < activities.size(); j++) {\n",
    "        if (activities[j].start >= activities[i].finish) {\n",
    "            cout << \"(\" << activities[j].start << \", \" << activities[j].finish << \")\" << endl;\n",
    "            i = j;\n",
    "        }\n",
    "    }\n",
    "}"
   ]
  },
  {
   "cell_type": "code",
   "execution_count": 10,
   "metadata": {
    "vscode": {
     "languageId": "cpp"
    }
   },
   "outputs": [
    {
     "name": "stdout",
     "output_type": "stream",
     "text": [
      "Selected activities are: \n",
      "(1, 2)\n",
      "(3, 4)\n",
      "(5, 7)\n",
      "(8, 9)\n"
     ]
    }
   ],
   "source": [
    "vector<Activity> activities = {{5, 9}, {1, 2}, {3, 4}, {0, 6}, {5, 7}, {8, 9}};\n",
    "printMaxActivities(activities);"
   ]
  },
  {
   "cell_type": "markdown",
   "metadata": {},
   "source": [
    "Get a detailed insight of dynamic programming approach by the implementation of Matrix Chain Multiplication problem and see the impact of parenthesis positioning on time requirements for matrix multiplication."
   ]
  },
  {
   "cell_type": "code",
   "execution_count": 12,
   "metadata": {
    "vscode": {
     "languageId": "cpp"
    }
   },
   "outputs": [],
   "source": [
    "int MatrixChainOrder(vector<int> &p, int n) {\n",
    "    vector<vector<int>> m(n, vector<int>(n, 0));\n",
    "\n",
    "    for (int L = 2; L < n; L++) {\n",
    "        for (int i = 1; i < n - L + 1; i++) {\n",
    "            int j = i + L - 1;\n",
    "            m[i][j] = INT_MAX;\n",
    "            for (int k = i; k <= j - 1; k++) {\n",
    "                int q = m[i][k] + m[k + 1][j] + p[i - 1] * p[k] * p[j];\n",
    "                if (q < m[i][j]) {\n",
    "                    m[i][j] = q;\n",
    "                }\n",
    "            }\n",
    "        }\n",
    "    }\n",
    "\n",
    "    return m[1][n - 1];\n",
    "}"
   ]
  },
  {
   "cell_type": "code",
   "execution_count": 13,
   "metadata": {
    "vscode": {
     "languageId": "cpp"
    }
   },
   "outputs": [
    {
     "name": "stdout",
     "output_type": "stream",
     "text": [
      "Minimum number of multiplications is 18\n"
     ]
    }
   ],
   "source": [
    "vector<int> arr = {1, 2, 3, 4};\n",
    "int size = arr.size();\n",
    "\n",
    "cout << \"Minimum number of multiplications is \" << MatrixChainOrder(arr, size) << endl;"
   ]
  },
  {
   "cell_type": "markdown",
   "metadata": {},
   "source": [
    "Compare the performance of Dijkstra and Bellman ford algorithm for the single source shortest path problem."
   ]
  },
  {
   "cell_type": "code",
   "execution_count": 15,
   "metadata": {
    "vscode": {
     "languageId": "cpp"
    }
   },
   "outputs": [],
   "source": [
    "struct Edge {\n",
    "    int src, dest, weight;\n",
    "};"
   ]
  },
  {
   "cell_type": "code",
   "execution_count": 16,
   "metadata": {
    "vscode": {
     "languageId": "cpp"
    }
   },
   "outputs": [],
   "source": [
    "void dijkstra(vector<vector<pair<int, int>>> &adj, int src, int V) {\n",
    "    vector<int> dist(V, INT_MAX);\n",
    "    priority_queue<pair<int, int>, vector<pair<int, int>>, greater<pair<int, int>>> pq;\n",
    "\n",
    "    dist[src] = 0;\n",
    "    pq.push({0, src});\n",
    "\n",
    "    while (!pq.empty()) {\n",
    "        int u = pq.top().second;\n",
    "        pq.pop();\n",
    "\n",
    "        for (auto &neighbor : adj[u]) {\n",
    "            int v = neighbor.first;\n",
    "            int weight = neighbor.second;\n",
    "\n",
    "            if (dist[u] + weight < dist[v]) {\n",
    "                dist[v] = dist[u] + weight;\n",
    "                pq.push({dist[v], v});\n",
    "            }\n",
    "        }\n",
    "    }\n",
    "}"
   ]
  },
  {
   "cell_type": "code",
   "execution_count": 17,
   "metadata": {
    "vscode": {
     "languageId": "cpp"
    }
   },
   "outputs": [],
   "source": [
    "void bellmanFord(vector<Edge> &edges, int src, int V) {\n",
    "    vector<int> dist(V, INT_MAX);\n",
    "    dist[src] = 0;\n",
    "\n",
    "    for (int i = 1; i <= V - 1; i++) {\n",
    "        for (auto &edge : edges) {\n",
    "            int u = edge.src;\n",
    "            int v = edge.dest;\n",
    "            int weight = edge.weight;\n",
    "\n",
    "            if (dist[u] != INT_MAX && dist[u] + weight < dist[v]) {\n",
    "                dist[v] = dist[u] + weight;\n",
    "            }\n",
    "        }\n",
    "    }\n",
    "}"
   ]
  },
  {
   "cell_type": "code",
   "execution_count": 18,
   "metadata": {
    "vscode": {
     "languageId": "dart"
    }
   },
   "outputs": [],
   "source": [
    "int V = 5;\n",
    "vector<vector<pair<int, int>>> adj(V);\n",
    "vector<Edge> edges;"
   ]
  },
  {
   "cell_type": "code",
   "execution_count": 19,
   "metadata": {
    "vscode": {
     "languageId": "dart"
    }
   },
   "outputs": [],
   "source": [
    "adj[0].push_back({1, 10});\n",
    "adj[0].push_back({4, 5});\n",
    "adj[1].push_back({2, 1});\n",
    "adj[1].push_back({4, 2});\n",
    "adj[2].push_back({3, 4});\n",
    "adj[3].push_back({2, 6});\n",
    "adj[3].push_back({0, 7});\n",
    "adj[4].push_back({1, 3});\n",
    "adj[4].push_back({2, 9});\n",
    "adj[4].push_back({3, 2});"
   ]
  },
  {
   "cell_type": "code",
   "execution_count": 20,
   "metadata": {
    "vscode": {
     "languageId": "dart"
    }
   },
   "outputs": [],
   "source": [
    "edges.push_back({0, 1, 10});\n",
    "edges.push_back({0, 4, 5});\n",
    "edges.push_back({1, 2, 1});\n",
    "edges.push_back({1, 4, 2});\n",
    "edges.push_back({2, 3, 4});\n",
    "edges.push_back({3, 2, 6});\n",
    "edges.push_back({3, 0, 7});\n",
    "edges.push_back({4, 1, 3});\n",
    "edges.push_back({4, 2, 9});\n",
    "edges.push_back({4, 3, 2});"
   ]
  },
  {
   "cell_type": "code",
   "execution_count": null,
   "metadata": {
    "vscode": {
     "languageId": "cpp"
    }
   },
   "outputs": [],
   "source": [
    "auto start = high_resolution_clock::now();\n",
    "dijkstra(adj, 0, V);\n",
    "auto end = high_resolution_clock::now();\n",
    "auto duration = duration_cast<microseconds>(end - start).count();\n",
    "cout << \"Dijkstra's algorithm execution time: \" << duration << \" microseconds\" << endl;\n",
    "\n",
    "start = high_resolution_clock::now();\n",
    "bellmanFord(edges, 0, V);\n",
    "end = high_resolution_clock::now();\n",
    "duration = duration_cast<microseconds>(end - start).count();\n",
    "cout << \"Bellman-Ford algorithm execution time: \" << duration << \" microseconds\" << endl;"
   ]
  },
  {
   "cell_type": "markdown",
   "metadata": {},
   "source": [
    "Through 0/1 Knapsack problem, analyze the greedy and dynamic programming approach for the same dataset."
   ]
  },
  {
   "cell_type": "code",
   "execution_count": null,
   "metadata": {
    "vscode": {
     "languageId": "cpp"
    }
   },
   "outputs": [],
   "source": [
    "struct Item {\n",
    "    int value, weight;\n",
    "};\n",
    "\n",
    "bool cmp(Item a, Item b) {\n",
    "    double r1 = (double)a.value / a.weight;\n",
    "    double r2 = (double)b.value / b.weight;\n",
    "    return r1 > r2;\n",
    "}\n",
    "\n",
    "int knapSackGreedy(int W, vector<Item> &items) {\n",
    "    sort(items.begin(), items.end(), cmp);\n",
    "    int curWeight = 0;\n",
    "    int finalValue = 0;\n",
    "\n",
    "    for (auto &item : items) {\n",
    "        if (curWeight + item.weight <= W) {\n",
    "            curWeight += item.weight;\n",
    "            finalValue += item.value;\n",
    "        } else {\n",
    "            int remain = W - curWeight;\n",
    "            finalValue += item.value * ((double)remain / item.weight);\n",
    "            break;\n",
    "        }\n",
    "    }\n",
    "\n",
    "    return finalValue;\n",
    "}\n",
    "\n",
    "int knapSackDP(int W, vector<Item> &items, int n) {\n",
    "    vector<vector<int>> K(n + 1, vector<int>(W + 1));\n",
    "\n",
    "    for (int i = 0; i <= n; i++) {\n",
    "        for (int w = 0; w <= W; w++) {\n",
    "            if (i == 0 || w == 0)\n",
    "                K[i][w] = 0;\n",
    "            else if (items[i - 1].weight <= w)\n",
    "                K[i][w] = max(items[i - 1].value + K[i - 1][w - items[i - 1].weight], K[i - 1][w]);\n",
    "            else\n",
    "                K[i][w] = K[i - 1][w];\n",
    "        }\n",
    "    }\n",
    "\n",
    "    return K[n][W];\n",
    "}\n",
    "\n",
    "vector<Item> items = {{60, 10}, {100, 20}, {120, 30}};\n",
    "int W = 50;\n",
    "int n = items.size();\n",
    "\n",
    "cout << \"Maximum value in Knapsack (Greedy): \" << knapSackGreedy(W, items) << endl;\n",
    "cout << \"Maximum value in Knapsack (DP): \" << knapSackDP(W, items, n) << endl;"
   ]
  },
  {
   "cell_type": "markdown",
   "metadata": {},
   "source": [
    "Implement the sum of subset and N Queen problem."
   ]
  },
  {
   "cell_type": "code",
   "execution_count": null,
   "metadata": {
    "vscode": {
     "languageId": "cpp"
    }
   },
   "outputs": [],
   "source": [
    "void printSolution(vector<int> &board) {\n",
    "    for (int i = 0; i < board.size(); i++) {\n",
    "        for (int j = 0; j < board.size(); j++) {\n",
    "            if (board[i] == j)\n",
    "                cout << \"Q \";\n",
    "            else\n",
    "                cout << \". \";\n",
    "        }\n",
    "        cout << endl;\n",
    "    }\n",
    "    cout << endl;\n",
    "}\n",
    "\n",
    "bool isSafe(vector<int> &board, int row, int col) {\n",
    "    for (int i = 0; i < row; i++) {\n",
    "        if (board[i] == col || abs(board[i] - col) == abs(i - row))\n",
    "            return false;\n",
    "    }\n",
    "    return true;\n",
    "}\n",
    "\n",
    "void solveNQueen(vector<int> &board, int row) {\n",
    "    if (row == board.size()) {\n",
    "        printSolution(board);\n",
    "        return;\n",
    "    }\n",
    "\n",
    "    for (int col = 0; col < board.size(); col++) {\n",
    "        if (isSafe(board, row, col)) {\n",
    "            board[row] = col;\n",
    "            solveNQueen(board, row + 1);\n",
    "            board[row] = -1;\n",
    "        }\n",
    "    }\n",
    "}\n",
    "\n",
    "void subsetSum(vector<int> &arr, vector<int> &subset, int index, int sum, int target) {\n",
    "    if (sum == target) {\n",
    "        for (int i = 0; i < subset.size(); i++) {\n",
    "            cout << subset[i] << \" \";\n",
    "        }\n",
    "        cout << endl;\n",
    "        return;\n",
    "    }\n",
    "\n",
    "    for (int i = index; i < arr.size(); i++) {\n",
    "        if (sum + arr[i] <= target) {\n",
    "            subset.push_back(arr[i]);\n",
    "            subsetSum(arr, subset, i + 1, sum + arr[i], target);\n",
    "            subset.pop_back();\n",
    "        }\n",
    "    }\n",
    "}\n",
    "\n",
    "int main() {\n",
    "    int N = 4;\n",
    "    vector<int> board(N, -1);\n",
    "    cout << \"Solutions for \" << N << \" Queen problem:\" << endl;\n",
    "    solveNQueen(board, 0);\n",
    "\n",
    "    vector<int> arr = {10, 7, 5, 18, 12, 20, 15};\n",
    "    int target = 35;\n",
    "    vector<int> subset;\n",
    "    cout << \"Subsets with sum \" << target << \":\" << endl;\n",
    "    subsetSum(arr, subset, 0, 0, target);\n",
    "\n",
    "    return 0;\n",
    "}"
   ]
  },
  {
   "cell_type": "markdown",
   "metadata": {},
   "source": [
    "Compare the Backtracking and Branch & Bound Approach by the implementation of 0/1 Knapsack problem. Also compare the performance with dynamic programming approach."
   ]
  },
  {
   "cell_type": "code",
   "execution_count": null,
   "metadata": {
    "vscode": {
     "languageId": "cpp"
    }
   },
   "outputs": [],
   "source": [
    "struct Item {\n",
    "    int value, weight;\n",
    "};\n",
    "\n",
    "int knapSackDP(int W, vector<Item> &items, int n) {\n",
    "    vector<vector<int>> K(n + 1, vector<int>(W + 1));\n",
    "\n",
    "    for (int i = 0; i <= n; i++) {\n",
    "        for (int w = 0; w <= W; w++) {\n",
    "            if (i == 0 || w == 0)\n",
    "                K[i][w] = 0;\n",
    "            else if (items[i - 1].weight <= w)\n",
    "                K[i][w] = max(items[i - 1].value + K[i - 1][w - items[i - 1].weight], K[i - 1][w]);\n",
    "            else\n",
    "                K[i][w] = K[i - 1][w];\n",
    "        }\n",
    "    }\n",
    "\n",
    "    return K[n][W];\n",
    "}\n",
    "\n",
    "int knapSackBacktracking(int W, vector<Item> &items, int n, int idx = 0) {\n",
    "    if (idx == n || W == 0)\n",
    "        return 0;\n",
    "\n",
    "    if (items[idx].weight > W)\n",
    "        return knapSackBacktracking(W, items, n, idx + 1);\n",
    "\n",
    "    int include = items[idx].value + knapSackBacktracking(W - items[idx].weight, items, n, idx + 1);\n",
    "    int exclude = knapSackBacktracking(W, items, n, idx + 1);\n",
    "\n",
    "    return max(include, exclude);\n",
    "}\n",
    "\n",
    "struct Node {\n",
    "    int level, profit, bound, weight;\n",
    "};\n",
    "\n",
    "int bound(Node u, int n, int W, vector<Item> &items) {\n",
    "    if (u.weight >= W)\n",
    "        return 0;\n",
    "\n",
    "    int profit_bound = u.profit;\n",
    "    int j = u.level + 1;\n",
    "    int totweight = u.weight;\n",
    "\n",
    "    while ((j < n) && (totweight + items[j].weight <= W)) {\n",
    "        totweight += items[j].weight;\n",
    "        profit_bound += items[j].value;\n",
    "        j++;\n",
    "    }\n",
    "\n",
    "    if (j < n)\n",
    "        profit_bound += (W - totweight) * items[j].value / items[j].weight;\n",
    "\n",
    "    return profit_bound;\n",
    "}\n",
    "\n",
    "int knapSackBranchAndBound(int W, vector<Item> &items, int n) {\n",
    "    sort(items.begin(), items.end(), [](Item a, Item b) {\n",
    "        return (double)a.value / a.weight > (double)b.value / b.weight;\n",
    "    });\n",
    "\n",
    "    queue<Node> Q;\n",
    "    Node u, v;\n",
    "    u.level = -1;\n",
    "    u.profit = u.weight = 0;\n",
    "    Q.push(u);\n",
    "\n",
    "    int maxProfit = 0;\n",
    "    while (!Q.empty()) {\n",
    "        u = Q.front();\n",
    "        Q.pop();\n",
    "\n",
    "        if (u.level == -1)\n",
    "            v.level = 0;\n",
    "\n",
    "        if (u.level == n - 1)\n",
    "            continue;\n",
    "\n",
    "        v.level = u.level + 1;\n",
    "\n",
    "        v.weight = u.weight + items[v.level].weight;\n",
    "        v.profit = u.profit + items[v.level].value;\n",
    "\n",
    "        if (v.weight <= W && v.profit > maxProfit)\n",
    "            maxProfit = v.profit;\n",
    "\n",
    "        v.bound = bound(v, n, W, items);\n",
    "\n",
    "        if (v.bound > maxProfit)\n",
    "            Q.push(v);\n",
    "\n",
    "        v.weight = u.weight;\n",
    "        v.profit = u.profit;\n",
    "        v.bound = bound(v, n, W, items);\n",
    "        if (v.bound > maxProfit)\n",
    "            Q.push(v);\n",
    "    }\n",
    "\n",
    "    return maxProfit;\n",
    "}\n",
    "\n",
    "vector<Item> items = {{60, 10}, {100, 20}, {120, 30}};\n",
    "int W = 50;\n",
    "int n = items.size();\n",
    "\n",
    "auto start = high_resolution_clock::now();\n",
    "cout << \"Maximum value in Knapsack (DP): \" << knapSackDP(W, items, n) << endl;\n",
    "auto end = high_resolution_clock::now();\n",
    "auto duration = duration_cast<microseconds>(end - start).count();\n",
    "cout << \"DP execution time: \" << duration << \" microseconds\" << endl;\n",
    "\n",
    "start = high_resolution_clock::now();\n",
    "cout << \"Maximum value in Knapsack (Backtracking): \" << knapSackBacktracking(W, items, n) << endl;\n",
    "end = high_resolution_clock::now();\n",
    "duration = duration_cast<microseconds>(end - start).count();\n",
    "cout << \"Backtracking execution time: \" << duration << \" microseconds\" << endl;\n",
    "\n",
    "start = high_resolution_clock::now();\n",
    "cout << \"Maximum value in Knapsack (Branch and Bound): \" << knapSackBranchAndBound(W, items, n) << endl;\n",
    "end = high_resolution_clock::now();\n",
    "duration = duration_cast<microseconds>(end - start).count();\n",
    "cout << \"Branch and Bound execution time: \" << duration << \" microseconds\" << endl;"
   ]
  }
 ],
 "metadata": {
  "kernelspec": {
   "display_name": "C++17",
   "language": "C++17",
   "name": "xcpp17"
  },
  "language_info": {
   "codemirror_mode": "text/x-c++src",
   "file_extension": ".cpp",
   "mimetype": "text/x-c++src",
   "name": "c++",
   "version": "17"
  }
 },
 "nbformat": 4,
 "nbformat_minor": 2
}
