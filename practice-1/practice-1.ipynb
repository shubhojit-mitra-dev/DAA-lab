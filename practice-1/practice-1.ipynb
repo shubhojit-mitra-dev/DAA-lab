{
 "cells": [
  {
   "cell_type": "markdown",
   "metadata": {},
   "source": [
    "# Practice-1"
   ]
  },
  {
   "cell_type": "code",
   "execution_count": 6,
   "metadata": {
    "vscode": {
     "languageId": "cpp"
    }
   },
   "outputs": [],
   "source": [
    "#include <iostream>\n",
    "#include <vector>\n",
    "#include <unordered_map>\n",
    "using namespace std;"
   ]
  },
  {
   "cell_type": "markdown",
   "metadata": {},
   "source": [
    "Find the number of rotations in a circularly sorted array"
   ]
  },
  {
   "cell_type": "code",
   "execution_count": 3,
   "metadata": {
    "vscode": {
     "languageId": "cpp"
    }
   },
   "outputs": [
    {
     "name": "stdout",
     "output_type": "stream",
     "text": [
      "The array is rotated 2 times.\n"
     ]
    }
   ],
   "source": [
    "int countRotations(int arr[], int n) {\n",
    "    int low = 0, high = n - 1;\n",
    "\n",
    "    while (low <= high) {\n",
    "        if (arr[low] <= arr[high]) {\n",
    "            return low;\n",
    "        }\n",
    "\n",
    "        int mid = low + (high - low) / 2;\n",
    "        int next = (mid + 1) % n;\n",
    "        int prev = (mid - 1 + n) % n;\n",
    "\n",
    "        if (arr[mid] <= arr[next] && arr[mid] <= arr[prev]) {\n",
    "            return mid;\n",
    "        } else if (arr[mid] <= arr[high]) {\n",
    "            low = mid + 1;\n",
    "        } else if (arr[mid] >= arr[low]) {\n",
    "            high = mid - 1;\n",
    "        }\n",
    "    }\n",
    "\n",
    "    return -1;\n",
    "}\n",
    "\n",
    "\n",
    "int arr[] = {15, 18, 2, 3, 6, 12};\n",
    "int n = sizeof(arr) / sizeof(arr[0]);\n",
    "int rotations = countRotations(arr, n);\n",
    "cout << \"The array is rotated \" << rotations << \" times.\" << endl;\n",
    "return 0;\n"
   ]
  },
  {
   "cell_type": "markdown",
   "metadata": {},
   "source": [
    "Search an element in a circularly sorted array"
   ]
  },
  {
   "cell_type": "code",
   "execution_count": 4,
   "metadata": {
    "vscode": {
     "languageId": "cpp"
    }
   },
   "outputs": [
    {
     "name": "stdout",
     "output_type": "stream",
     "text": [
      "Element found at index 3\n"
     ]
    }
   ],
   "source": [
    "int searchInRotatedArray(vector<int>& arr, int key) {\n",
    "    int low = 0, high = arr.size() - 1;\n",
    "\n",
    "    while (low <= high) {\n",
    "        int mid = low + (high - low) / 2;\n",
    "\n",
    "        if (arr[mid] == key) {\n",
    "            return mid;\n",
    "        }\n",
    "\n",
    "        if (arr[low] <= arr[mid]) {\n",
    "            if (key >= arr[low] && key <= arr[mid]) {\n",
    "                high = mid - 1;\n",
    "            } else {\n",
    "                low = mid + 1;\n",
    "            }\n",
    "        } else {\n",
    "            if (key >= arr[mid] && key <= arr[high]) {\n",
    "                low = mid + 1;\n",
    "            } else {\n",
    "                high = mid - 1;\n",
    "            }\n",
    "        }\n",
    "    }\n",
    "\n",
    "    return -1;\n",
    "}\n",
    "\n",
    "vector<int> arr = {15, 18, 2, 3, 6, 12};\n",
    "int key = 3;\n",
    "int index = searchInRotatedArray(arr, key);\n",
    "if (index != -1) {\n",
    "    cout << \"Element found at index \" << index << endl;\n",
    "} else {\n",
    "    cout << \"Element not found in the array\" << endl;\n",
    "}"
   ]
  },
  {
   "cell_type": "markdown",
   "metadata": {},
   "source": [
    "Find the first or last occurrence of a given number in a sorted array"
   ]
  },
  {
   "cell_type": "code",
   "execution_count": null,
   "metadata": {
    "vscode": {
     "languageId": "cpp"
    }
   },
   "outputs": [],
   "source": [
    "int findFirstOccurrence(vector<int>& arr, int key) {\n",
    "    int low = 0, high = arr.size() - 1;\n",
    "    int result = -1;\n",
    "\n",
    "    while (low <= high) {\n",
    "        int mid = low + (high - low) / 2;\n",
    "\n",
    "        if (arr[mid] == key) {\n",
    "            result = mid;\n",
    "            high = mid - 1; \n",
    "        } else if (arr[mid] > key) {\n",
    "            high = mid - 1;\n",
    "        } else {\n",
    "            low = mid + 1;\n",
    "        }\n",
    "    }\n",
    "\n",
    "    return result;\n",
    "}"
   ]
  },
  {
   "cell_type": "code",
   "execution_count": null,
   "metadata": {
    "vscode": {
     "languageId": "cpp"
    }
   },
   "outputs": [],
   "source": [
    "\n",
    "int findLastOccurrence(vector<int>& arr, int key) {\n",
    "    int low = 0, high = arr.size() - 1;\n",
    "    int result = -1;\n",
    "\n",
    "    while (low <= high) {\n",
    "        int mid = low + (high - low) / 2;\n",
    "\n",
    "        if (arr[mid] == key) {\n",
    "            result = mid;\n",
    "            low = mid + 1; \n",
    "        } else if (arr[mid] > key) {\n",
    "            high = mid - 1;\n",
    "        } else {\n",
    "            low = mid + 1;\n",
    "        }\n",
    "    }\n",
    "\n",
    "    return result;\n",
    "}"
   ]
  },
  {
   "cell_type": "code",
   "execution_count": 11,
   "metadata": {
    "vscode": {
     "languageId": "cpp"
    }
   },
   "outputs": [
    {
     "name": "stdout",
     "output_type": "stream",
     "text": [
      "First occurrence of element 10 is at index 2\n",
      "Last occurrence of element 10 is at index 4\n"
     ]
    }
   ],
   "source": [
    "vector<int> arr = {2, 4, 10, 10, 10, 18, 20};\n",
    "int key = 10;\n",
    "int firstIndex = findFirstOccurrence(arr, key);\n",
    "int lastIndex = findLastOccurrence(arr, key);\n",
    "\n",
    "if (firstIndex != -1) {\n",
    "    cout << \"First occurrence of element \" << key << \" is at index \" << firstIndex << endl;\n",
    "} else {\n",
    "    cout << \"Element not found in the array\" << endl;\n",
    "}\n",
    "\n",
    "if (lastIndex != -1) {\n",
    "    cout << \"Last occurrence of element \" << key << \" is at index \" << lastIndex << endl;\n",
    "} else {\n",
    "    cout << \"Element not found in the array\" << endl;\n",
    "}"
   ]
  },
  {
   "cell_type": "markdown",
   "metadata": {},
   "source": [
    "Count occurrences of a number in a sorted array with duplicates"
   ]
  },
  {
   "cell_type": "code",
   "execution_count": 12,
   "metadata": {
    "vscode": {
     "languageId": "cpp"
    }
   },
   "outputs": [
    {
     "name": "stdout",
     "output_type": "stream",
     "text": [
      "Element 10 occurs 3 times in the array.\n"
     ]
    }
   ],
   "source": [
    "int countOccurrences(vector<int>& arr, int key) {\n",
    "    int firstIndex = findFirstOccurrence(arr, key);\n",
    "    if (firstIndex == -1) {\n",
    "        return 0;\n",
    "    }\n",
    "    int lastIndex = findLastOccurrence(arr, key);\n",
    "    return lastIndex - firstIndex + 1;\n",
    "}\n",
    "\n",
    "vector<int> arr = {2, 4, 10, 10, 10, 18, 20};\n",
    "int key = 10;\n",
    "int count = countOccurrences(arr, key);\n",
    "cout << \"Element \" << key << \" occurs \" << count << \" times in the array.\" << endl;"
   ]
  },
  {
   "cell_type": "markdown",
   "metadata": {},
   "source": [
    "Find the smallest missing element from a sorted array "
   ]
  },
  {
   "cell_type": "code",
   "execution_count": 13,
   "metadata": {
    "vscode": {
     "languageId": "cpp"
    }
   },
   "outputs": [
    {
     "name": "stdout",
     "output_type": "stream",
     "text": [
      "The smallest missing element is 3\n"
     ]
    }
   ],
   "source": [
    "int findSmallestMissingElement(vector<int>& arr) {\n",
    "    int low = 0, high = arr.size() - 1;\n",
    "\n",
    "    while (low <= high) {\n",
    "        int mid = low + (high - low) / 2;\n",
    "\n",
    "        if (arr[mid] != mid) {\n",
    "            high = mid - 1;\n",
    "        } else {\n",
    "            low = mid + 1;\n",
    "        }\n",
    "    }\n",
    "\n",
    "    return low;\n",
    "}\n",
    "\n",
    "vector<int> arr = {0, 1, 2, 6, 9, 11, 15};\n",
    "int missingElement = findSmallestMissingElement(arr);\n",
    "cout << \"The smallest missing element is \" << missingElement << endl;"
   ]
  },
  {
   "cell_type": "markdown",
   "metadata": {},
   "source": [
    "Find floor and ceil of a number in a sorted integer array"
   ]
  },
  {
   "cell_type": "code",
   "execution_count": 24,
   "metadata": {
    "vscode": {
     "languageId": "cpp"
    }
   },
   "outputs": [
    {
     "name": "stdout",
     "output_type": "stream",
     "text": [
      "Floor of 5 is 2\n",
      "Ceil of 5 is 8\n"
     ]
    }
   ],
   "source": [
    "vector<int> arr = {1, 2, 8, 10, 10, 12, 19};\n",
    "int key = 5;\n",
    "int n = arr.size();\n",
    "int floor = -1, ceil = -1;\n",
    "\n",
    "int low = 0, high = n - 1;\n",
    "while (low <= high) {\n",
    "    int mid = low + (high - low) / 2;\n",
    "\n",
    "    if (arr[mid] == key) {\n",
    "        floor = arr[mid];\n",
    "        ceil = arr[mid];\n",
    "        break;\n",
    "    } else if (arr[mid] < key) {\n",
    "        floor = arr[mid];\n",
    "        low = mid + 1;\n",
    "    } else {\n",
    "        ceil = arr[mid];\n",
    "        high = mid - 1;\n",
    "    }\n",
    "}\n",
    "\n",
    "cout << \"Floor of \" << key << \" is \" << floor << endl;\n",
    "cout << \"Ceil of \" << key << \" is \" << ceil << endl;"
   ]
  },
  {
   "cell_type": "markdown",
   "metadata": {},
   "source": [
    "Search in a nearly sorted array in logarithmic time"
   ]
  },
  {
   "cell_type": "code",
   "execution_count": 25,
   "metadata": {
    "vscode": {
     "languageId": "cpp"
    }
   },
   "outputs": [
    {
     "name": "stdout",
     "output_type": "stream",
     "text": [
      "Element found at index 2\n"
     ]
    }
   ],
   "source": [
    "int searchInNearlySortedArray(vector<int>& arr, int key) {\n",
    "    int low = 0, high = arr.size() - 1;\n",
    "\n",
    "    while (low <= high) {\n",
    "        int mid = low + (high - low) / 2;\n",
    "\n",
    "        if (arr[mid] == key) {\n",
    "            return mid;\n",
    "        } else if (mid > low && arr[mid - 1] == key) {\n",
    "            return mid - 1;\n",
    "        } else if (mid < high && arr[mid + 1] == key) {\n",
    "            return mid + 1;\n",
    "        }\n",
    "\n",
    "        if (arr[mid] > key) {\n",
    "            high = mid - 2;\n",
    "        } else {\n",
    "            low = mid + 2;\n",
    "        }\n",
    "    }\n",
    "\n",
    "    return -1;\n",
    "}\n",
    "\n",
    "vector<int> arr = {10, 3, 40, 20, 50, 80, 70};\n",
    "int key = 40;\n",
    "int index = searchInNearlySortedArray(arr, key);\n",
    "if (index != -1) {\n",
    "    cout << \"Element found at index \" << index << endl;\n",
    "} else {\n",
    "    cout << \"Element not found in the array\" << endl;\n",
    "}"
   ]
  },
  {
   "cell_type": "markdown",
   "metadata": {},
   "source": [
    "Find the number of 1s in a sorted binary array"
   ]
  },
  {
   "cell_type": "code",
   "execution_count": 27,
   "metadata": {
    "vscode": {
     "languageId": "cpp"
    }
   },
   "outputs": [
    {
     "name": "stdout",
     "output_type": "stream",
     "text": [
      "Number of 1s in the array is 4\n"
     ]
    }
   ],
   "source": [
    "int countOnes(vector<int>& arr) {\n",
    "    int low = 0, high = arr.size() - 1;\n",
    "    int firstOneIndex = -1;\n",
    "\n",
    "    while (low <= high) {\n",
    "        int mid = low + (high - low) / 2;\n",
    "\n",
    "        if (arr[mid] == 1) {\n",
    "            firstOneIndex = mid;\n",
    "            high = mid - 1;\n",
    "        } else {\n",
    "            low = mid + 1;\n",
    "        }\n",
    "    }\n",
    "\n",
    "    if (firstOneIndex == -1) {\n",
    "        return 0;\n",
    "    }\n",
    "\n",
    "    return arr.size() - firstOneIndex;\n",
    "}\n",
    "\n",
    "vector<int> arr = {0, 0, 0, 1, 1, 1, 1};\n",
    "int count = countOnes(arr);\n",
    "cout << \"Number of 1s in the array is \" << count << endl;"
   ]
  },
  {
   "cell_type": "markdown",
   "metadata": {},
   "source": [
    "Find the peak element in an array\n"
   ]
  },
  {
   "cell_type": "code",
   "execution_count": 29,
   "metadata": {
    "vscode": {
     "languageId": "cpp"
    }
   },
   "outputs": [
    {
     "name": "stdout",
     "output_type": "stream",
     "text": [
      "Peak element is at index 2 with value 20\n"
     ]
    }
   ],
   "source": [
    "int findPeakElement(vector<int>& arr) {\n",
    "    int low = 0, high = arr.size() - 1;\n",
    "\n",
    "    while (low < high) {\n",
    "        int mid = low + (high - low) / 2;\n",
    "\n",
    "        if (arr[mid] > arr[mid + 1]) {\n",
    "            high = mid;\n",
    "        } else {\n",
    "            low = mid + 1;\n",
    "        }\n",
    "    }\n",
    "\n",
    "    return low;\n",
    "}\n",
    "\n",
    "vector<int> arr = {1, 3, 20, 4, 1, 0};\n",
    "int peakIndex = findPeakElement(arr);\n",
    "cout << \"Peak element is at index \" << peakIndex << \" with value \" << arr[peakIndex] << endl;"
   ]
  },
  {
   "cell_type": "markdown",
   "metadata": {},
   "source": [
    "Find the missing term in a sequence in logarithmic time"
   ]
  },
  {
   "cell_type": "code",
   "execution_count": 31,
   "metadata": {
    "vscode": {
     "languageId": "cpp"
    }
   },
   "outputs": [
    {
     "name": "stdout",
     "output_type": "stream",
     "text": [
      "The missing term in the sequence is 10\n"
     ]
    }
   ],
   "source": [
    "int findMissingTerm(vector<int>& arr) {\n",
    "    int low = 0, high = arr.size() - 1;\n",
    "    int diff = (arr[high] - arr[low]) / arr.size();\n",
    "\n",
    "    while (low <= high) {\n",
    "        int mid = low + (high - low) / 2;\n",
    "\n",
    "        if (arr[mid] == arr[0] + mid * diff) {\n",
    "            low = mid + 1;\n",
    "        } else {\n",
    "            high = mid - 1;\n",
    "        }\n",
    "    }\n",
    "\n",
    "    return arr[0] + low * diff;\n",
    "}\n",
    "\n",
    "vector<int> arr = {2, 4, 6, 8, 12, 14};\n",
    "int missingTerm = findMissingTerm(arr);\n",
    "cout << \"The missing term in the sequence is \" << missingTerm << endl;"
   ]
  },
  {
   "cell_type": "markdown",
   "metadata": {},
   "source": [
    "Find the floor and ceil of a number in a sorted array (Recursive solution)"
   ]
  },
  {
   "cell_type": "code",
   "execution_count": 32,
   "metadata": {
    "vscode": {
     "languageId": "cpp"
    }
   },
   "outputs": [],
   "source": [
    "int findFloorRecursive(vector<int>& arr, int low, int high, int key) {\n",
    "    if (low > high) {\n",
    "        return -1;\n",
    "    }\n",
    "\n",
    "    if (key >= arr[high]) {\n",
    "        return arr[high];\n",
    "    }\n",
    "\n",
    "    int mid = low + (high - low) / 2;\n",
    "\n",
    "    if (arr[mid] == key) {\n",
    "        return arr[mid];\n",
    "    }\n",
    "\n",
    "    if (mid > 0 && arr[mid - 1] <= key && key < arr[mid]) {\n",
    "        return arr[mid - 1];\n",
    "    }\n",
    "\n",
    "    if (key < arr[mid]) {\n",
    "        return findFloorRecursive(arr, low, mid - 1, key);\n",
    "    }\n",
    "\n",
    "    return findFloorRecursive(arr, mid + 1, high, key);\n",
    "}\n"
   ]
  },
  {
   "cell_type": "code",
   "execution_count": 33,
   "metadata": {
    "vscode": {
     "languageId": "cpp"
    }
   },
   "outputs": [],
   "source": [
    "\n",
    "int findCeilRecursive(vector<int>& arr, int low, int high, int key) {\n",
    "    if (low > high) {\n",
    "        return -1;\n",
    "    }\n",
    "\n",
    "    if (key <= arr[low]) {\n",
    "        return arr[low];\n",
    "    }\n",
    "\n",
    "    int mid = low + (high - low) / 2;\n",
    "\n",
    "    if (arr[mid] == key) {\n",
    "        return arr[mid];\n",
    "    }\n",
    "\n",
    "    if (mid < high && arr[mid] < key && key <= arr[mid + 1]) {\n",
    "        return arr[mid + 1];\n",
    "    }\n",
    "\n",
    "    if (key < arr[mid]) {\n",
    "        return findCeilRecursive(arr, low, mid - 1, key);\n",
    "    }\n",
    "\n",
    "    return findCeilRecursive(arr, mid + 1, high, key);\n",
    "}\n"
   ]
  },
  {
   "cell_type": "code",
   "execution_count": 34,
   "metadata": {
    "vscode": {
     "languageId": "cpp"
    }
   },
   "outputs": [
    {
     "name": "stdout",
     "output_type": "stream",
     "text": [
      "Floor of 5 is 2\n",
      "Ceil of 5 is 8\n"
     ]
    }
   ],
   "source": [
    "vector<int> arr = {1, 2, 8, 10, 10, 12, 19};\n",
    "int key = 5;\n",
    "int n = arr.size();\n",
    "\n",
    "int floor = findFloorRecursive(arr, 0, n - 1, key);\n",
    "int ceil = findCeilRecursive(arr, 0, n - 1, key);\n",
    "\n",
    "cout << \"Floor of \" << key << \" is \" << floor << endl;\n",
    "cout << \"Ceil of \" << key << \" is \" << ceil << endl;"
   ]
  },
  {
   "cell_type": "markdown",
   "metadata": {},
   "source": [
    "Find the square root of a number using binary search"
   ]
  },
  {
   "cell_type": "code",
   "execution_count": null,
   "metadata": {
    "vscode": {
     "languageId": "cpp"
    }
   },
   "outputs": [
    {
     "name": "stdout",
     "output_type": "stream",
     "text": [
      "Square root of 25 is 5\n"
     ]
    }
   ],
   "source": [
    "#include <iostream>\n",
    "using namespace std;\n",
    "\n",
    "int x = 25;\n",
    "if (x == 0 || x == 1) {\n",
    "    cout << \"Square root of \" << x << \" is \" << x << endl;\n",
    "} else {\n",
    "    int low = 1, high = x, ans = 0;\n",
    "    while (low <= high) {\n",
    "        int mid = low + (high - low) / 2;\n",
    "\n",
    "        if (mid * mid == x) {\n",
    "            ans = mid;\n",
    "            break;\n",
    "        }\n",
    "\n",
    "        if (mid * mid < x) {\n",
    "            low = mid + 1;\n",
    "            ans = mid;\n",
    "        } else {\n",
    "            high = mid - 1;\n",
    "        }\n",
    "    }\n",
    "\n",
    "    cout << \"Square root of \" << x << \" is \" << ans << endl;\n",
    "}\n"
   ]
  }
 ],
 "metadata": {
  "kernelspec": {
   "display_name": "C++17",
   "language": "C++17",
   "name": "xcpp17"
  },
  "language_info": {
   "codemirror_mode": "text/x-c++src",
   "file_extension": ".cpp",
   "mimetype": "text/x-c++src",
   "name": "c++",
   "version": "17"
  }
 },
 "nbformat": 4,
 "nbformat_minor": 2
}
